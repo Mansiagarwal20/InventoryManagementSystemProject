{
 "cells": [
  {
   "cell_type": "markdown",
   "metadata": {},
   "source": [
    "# ********************Inventory Management System Project***********************\n",
    "                                                                   -Mansi Agarwal\n",
    "                                                                   "
   ]
  },
  {
   "cell_type": "markdown",
   "metadata": {},
   "source": [
    "#Creating the Record File"
   ]
  },
  {
   "cell_type": "code",
   "execution_count": 1,
   "metadata": {},
   "outputs": [],
   "source": [
    "record = {'2000':{\"Category\": \"Stationary\",\"Item name\" : \"Register\",\"Price\":50,\"Quantity\":100},\n",
    "         '2001':{\"Category\": \"Stationary\",\"Item name\" : \"Pen\",\"Price\":10,\"Quantity\":500},\n",
    "         '2002':{\"Category\": \"Stationary\",\"Item name\" : \"Pencil\",\"Price\":5,\"Quantity\":500},\n",
    "         '2003':{\"Category\": \"Stationary\",\"Item name\" : \"Eraser\",\"Price\":5,\"Quantity\":200},\n",
    "         '2004':{\"Category\": \"Stationary\",\"Item name\" : \"Marker\",\"Price\":30,\"Quantity\":100},\n",
    "         '2005':{\"Category\": \"Fruits\",\"Item name\" : \"Apple\",\"Price\":30,\"Quantity\":300},\n",
    "          '2006':{\"Category\": \"Fruits\",\"Item name\" : \"Mango\",\"Price\":30,\"Quantity\":300},\n",
    "          '2007':{\"Category\": \"Fruits\",\"Item name\" : \"Kiwi\",\"Price\":30,\"Quantity\":300},\n",
    "          '2008':{\"Category\": \"Fruits\",\"Item name\" : \"Guava\",\"Price\":30,\"Quantity\":300},\n",
    "          '2009':{\"Category\": \"Fruits\",\"Item name\" : \"Strawberry\",\"Price\":30,\"Quantity\":300},\n",
    "         '2010':{\"Category\": \"Vegetables\",\"Item name\" : \"Potato\",\"Price\":40,\"Quantity\":400},\n",
    "         '2011':{\"Category\": \"Vegetables\",\"Item name\" : \"Tomato\",\"Price\":40,\"Quantity\":400},\n",
    "         '2012':{\"Category\": \"Vegetables\",\"Item name\" : \"Onion\",\"Price\":40,\"Quantity\":400},\n",
    "         '2013':{\"Category\": \"Vegetables\",\"Item name\" : \"Garlic\",\"Price\":40,\"Quantity\":400},\n",
    "         '2014':{\"Category\": \"Vegetables\",\"Item name\" : \"Bell Peppers\",\"Price\":40,\"Quantity\":400},\n",
    "         '2015':{\"Category\": \"Snacks\",\"Item name\" : \"Kurkere\",\"Price\":20,\"Quantity\":500},\n",
    "         '2016':{\"Category\": \"Snacks\",\"Item name\" : \"Uncle Chips\",\"Price\":20,\"Quantity\":500},\n",
    "         '2017':{\"Category\": \"Snacks\",\"Item name\" : \"Doritos\",\"Price\":20,\"Quantity\":500},\n",
    "         '2018':{\"Category\": \"Snacks\",\"Item name\" : \"Lays\",\"Price\":20,\"Quantity\":500},\n",
    "         '2019':{\"Category\": \"Snacks\",\"Item name\" : \"Snac Lite\",\"Price\":20,\"Quantity\":500},\n",
    "         '2020':{\"Category\": \"Chocolates\",\"Item name\" : \"KitKat\",\"Price\":20,\"Quantity\":200},\n",
    "         '2021':{\"Category\": \"Chocolates\",\"Item name\" : \"Dairy Milk\",\"Price\":20,\"Quantity\":200},\n",
    "         '2022':{\"Category\": \"Chocolates\",\"Item name\" : \"5 Star\",\"Price\":20,\"Quantity\":200},\n",
    "         '2023':{\"Category\": \"Chocolates\",\"Item name\" : \"Munch\",\"Price\":10,\"Quantity\":200},\n",
    "         '2024':{\"Category\": \"Chocolates\",\"Item name\" : \"Perk\",\"Price\":10,\"Quantity\":200},\n",
    "         '2025':{\"Category\": \"Biscuits\",\"Item name\" : \"Hide n Seek\",\"Price\":50,\"Quantity\":300},\n",
    "         '2026':{\"Category\": \"Biscuits\",\"Item name\" : \"Bourbon\",\"Price\":50,\"Quantity\":300},\n",
    "         '2027':{\"Category\": \"Biscuits\",\"Item name\" : \"Good Day\",\"Price\":50,\"Quantity\":300},\n",
    "         '2028':{\"Category\": \"Biscuits\",\"Item name\" : \"Oreo\",\"Price\":50,\"Quantity\":300},\n",
    "         '2029':{\"Category\": \"Biscuits\",\"Item name\" : \"Parle G\",\"Price\":50,\"Quantity\":300}}"
   ]
  },
  {
   "cell_type": "code",
   "execution_count": 2,
   "metadata": {},
   "outputs": [],
   "source": [
    "import json"
   ]
  },
  {
   "cell_type": "code",
   "execution_count": 3,
   "metadata": {},
   "outputs": [],
   "source": [
    "js = json.dumps(record)"
   ]
  },
  {
   "cell_type": "code",
   "execution_count": 4,
   "metadata": {},
   "outputs": [],
   "source": [
    "fd = open(\"record.json\",'w')\n",
    "fd.write(js)\n",
    "fd.close()"
   ]
  },
  {
   "cell_type": "code",
   "execution_count": 5,
   "metadata": {},
   "outputs": [
    {
     "data": {
      "text/plain": [
       "'{\"2000\": {\"Category\": \"Stationary\", \"Item name\": \"Register\", \"Price\": 50, \"Quantity\": 100}, \"2001\": {\"Category\": \"Stationary\", \"Item name\": \"Pen\", \"Price\": 10, \"Quantity\": 500}, \"2002\": {\"Category\": \"Stationary\", \"Item name\": \"Pencil\", \"Price\": 5, \"Quantity\": 500}, \"2003\": {\"Category\": \"Stationary\", \"Item name\": \"Eraser\", \"Price\": 5, \"Quantity\": 200}, \"2004\": {\"Category\": \"Stationary\", \"Item name\": \"Marker\", \"Price\": 30, \"Quantity\": 100}, \"2005\": {\"Category\": \"Fruits\", \"Item name\": \"Apple\", \"Price\": 30, \"Quantity\": 300}, \"2006\": {\"Category\": \"Fruits\", \"Item name\": \"Mango\", \"Price\": 30, \"Quantity\": 300}, \"2007\": {\"Category\": \"Fruits\", \"Item name\": \"Kiwi\", \"Price\": 30, \"Quantity\": 300}, \"2008\": {\"Category\": \"Fruits\", \"Item name\": \"Guava\", \"Price\": 30, \"Quantity\": 300}, \"2009\": {\"Category\": \"Fruits\", \"Item name\": \"Strawberry\", \"Price\": 30, \"Quantity\": 300}, \"2010\": {\"Category\": \"Vegetables\", \"Item name\": \"Potato\", \"Price\": 40, \"Quantity\": 400}, \"2011\": {\"Category\": \"Vegetables\", \"Item name\": \"Tomato\", \"Price\": 40, \"Quantity\": 400}, \"2012\": {\"Category\": \"Vegetables\", \"Item name\": \"Onion\", \"Price\": 40, \"Quantity\": 400}, \"2013\": {\"Category\": \"Vegetables\", \"Item name\": \"Garlic\", \"Price\": 40, \"Quantity\": 400}, \"2014\": {\"Category\": \"Vegetables\", \"Item name\": \"Bell Peppers\", \"Price\": 40, \"Quantity\": 400}, \"2015\": {\"Category\": \"Snacks\", \"Item name\": \"Kurkere\", \"Price\": 20, \"Quantity\": 500}, \"2016\": {\"Category\": \"Snacks\", \"Item name\": \"Uncle Chips\", \"Price\": 20, \"Quantity\": 500}, \"2017\": {\"Category\": \"Snacks\", \"Item name\": \"Doritos\", \"Price\": 20, \"Quantity\": 500}, \"2018\": {\"Category\": \"Snacks\", \"Item name\": \"Lays\", \"Price\": 20, \"Quantity\": 500}, \"2019\": {\"Category\": \"Snacks\", \"Item name\": \"Snac Lite\", \"Price\": 20, \"Quantity\": 500}, \"2020\": {\"Category\": \"Chocolates\", \"Item name\": \"KitKat\", \"Price\": 20, \"Quantity\": 200}, \"2021\": {\"Category\": \"Chocolates\", \"Item name\": \"Dairy Milk\", \"Price\": 20, \"Quantity\": 200}, \"2022\": {\"Category\": \"Chocolates\", \"Item name\": \"5 Star\", \"Price\": 20, \"Quantity\": 200}, \"2023\": {\"Category\": \"Chocolates\", \"Item name\": \"Munch\", \"Price\": 10, \"Quantity\": 200}, \"2024\": {\"Category\": \"Chocolates\", \"Item name\": \"Perk\", \"Price\": 10, \"Quantity\": 200}, \"2025\": {\"Category\": \"Biscuits\", \"Item name\": \"Hide n Seek\", \"Price\": 50, \"Quantity\": 300}, \"2026\": {\"Category\": \"Biscuits\", \"Item name\": \"Bourbon\", \"Price\": 50, \"Quantity\": 300}, \"2027\": {\"Category\": \"Biscuits\", \"Item name\": \"Good Day\", \"Price\": 50, \"Quantity\": 300}, \"2028\": {\"Category\": \"Biscuits\", \"Item name\": \"Oreo\", \"Price\": 50, \"Quantity\": 300}, \"2029\": {\"Category\": \"Biscuits\", \"Item name\": \"Parle G\", \"Price\": 50, \"Quantity\": 300}}'"
      ]
     },
     "execution_count": 5,
     "metadata": {},
     "output_type": "execute_result"
    }
   ],
   "source": [
    "js"
   ]
  },
  {
   "cell_type": "code",
   "execution_count": 6,
   "metadata": {},
   "outputs": [],
   "source": [
    "fd = open(\"record.json\",'r')\n",
    "txt = fd.read()\n",
    "fd.close()\n",
    "record = json.loads(txt)"
   ]
  },
  {
   "cell_type": "code",
   "execution_count": 7,
   "metadata": {},
   "outputs": [
    {
     "data": {
      "text/plain": [
       "{'2000': {'Category': 'Stationary',\n",
       "  'Item name': 'Register',\n",
       "  'Price': 50,\n",
       "  'Quantity': 100},\n",
       " '2001': {'Category': 'Stationary',\n",
       "  'Item name': 'Pen',\n",
       "  'Price': 10,\n",
       "  'Quantity': 500},\n",
       " '2002': {'Category': 'Stationary',\n",
       "  'Item name': 'Pencil',\n",
       "  'Price': 5,\n",
       "  'Quantity': 500},\n",
       " '2003': {'Category': 'Stationary',\n",
       "  'Item name': 'Eraser',\n",
       "  'Price': 5,\n",
       "  'Quantity': 200},\n",
       " '2004': {'Category': 'Stationary',\n",
       "  'Item name': 'Marker',\n",
       "  'Price': 30,\n",
       "  'Quantity': 100},\n",
       " '2005': {'Category': 'Fruits',\n",
       "  'Item name': 'Apple',\n",
       "  'Price': 30,\n",
       "  'Quantity': 300},\n",
       " '2006': {'Category': 'Fruits',\n",
       "  'Item name': 'Mango',\n",
       "  'Price': 30,\n",
       "  'Quantity': 300},\n",
       " '2007': {'Category': 'Fruits',\n",
       "  'Item name': 'Kiwi',\n",
       "  'Price': 30,\n",
       "  'Quantity': 300},\n",
       " '2008': {'Category': 'Fruits',\n",
       "  'Item name': 'Guava',\n",
       "  'Price': 30,\n",
       "  'Quantity': 300},\n",
       " '2009': {'Category': 'Fruits',\n",
       "  'Item name': 'Strawberry',\n",
       "  'Price': 30,\n",
       "  'Quantity': 300},\n",
       " '2010': {'Category': 'Vegetables',\n",
       "  'Item name': 'Potato',\n",
       "  'Price': 40,\n",
       "  'Quantity': 400},\n",
       " '2011': {'Category': 'Vegetables',\n",
       "  'Item name': 'Tomato',\n",
       "  'Price': 40,\n",
       "  'Quantity': 400},\n",
       " '2012': {'Category': 'Vegetables',\n",
       "  'Item name': 'Onion',\n",
       "  'Price': 40,\n",
       "  'Quantity': 400},\n",
       " '2013': {'Category': 'Vegetables',\n",
       "  'Item name': 'Garlic',\n",
       "  'Price': 40,\n",
       "  'Quantity': 400},\n",
       " '2014': {'Category': 'Vegetables',\n",
       "  'Item name': 'Bell Peppers',\n",
       "  'Price': 40,\n",
       "  'Quantity': 400},\n",
       " '2015': {'Category': 'Snacks',\n",
       "  'Item name': 'Kurkere',\n",
       "  'Price': 20,\n",
       "  'Quantity': 500},\n",
       " '2016': {'Category': 'Snacks',\n",
       "  'Item name': 'Uncle Chips',\n",
       "  'Price': 20,\n",
       "  'Quantity': 500},\n",
       " '2017': {'Category': 'Snacks',\n",
       "  'Item name': 'Doritos',\n",
       "  'Price': 20,\n",
       "  'Quantity': 500},\n",
       " '2018': {'Category': 'Snacks',\n",
       "  'Item name': 'Lays',\n",
       "  'Price': 20,\n",
       "  'Quantity': 500},\n",
       " '2019': {'Category': 'Snacks',\n",
       "  'Item name': 'Snac Lite',\n",
       "  'Price': 20,\n",
       "  'Quantity': 500},\n",
       " '2020': {'Category': 'Chocolates',\n",
       "  'Item name': 'KitKat',\n",
       "  'Price': 20,\n",
       "  'Quantity': 200},\n",
       " '2021': {'Category': 'Chocolates',\n",
       "  'Item name': 'Dairy Milk',\n",
       "  'Price': 20,\n",
       "  'Quantity': 200},\n",
       " '2022': {'Category': 'Chocolates',\n",
       "  'Item name': '5 Star',\n",
       "  'Price': 20,\n",
       "  'Quantity': 200},\n",
       " '2023': {'Category': 'Chocolates',\n",
       "  'Item name': 'Munch',\n",
       "  'Price': 10,\n",
       "  'Quantity': 200},\n",
       " '2024': {'Category': 'Chocolates',\n",
       "  'Item name': 'Perk',\n",
       "  'Price': 10,\n",
       "  'Quantity': 200},\n",
       " '2025': {'Category': 'Biscuits',\n",
       "  'Item name': 'Hide n Seek',\n",
       "  'Price': 50,\n",
       "  'Quantity': 300},\n",
       " '2026': {'Category': 'Biscuits',\n",
       "  'Item name': 'Bourbon',\n",
       "  'Price': 50,\n",
       "  'Quantity': 300},\n",
       " '2027': {'Category': 'Biscuits',\n",
       "  'Item name': 'Good Day',\n",
       "  'Price': 50,\n",
       "  'Quantity': 300},\n",
       " '2028': {'Category': 'Biscuits',\n",
       "  'Item name': 'Oreo',\n",
       "  'Price': 50,\n",
       "  'Quantity': 300},\n",
       " '2029': {'Category': 'Biscuits',\n",
       "  'Item name': 'Parle G',\n",
       "  'Price': 50,\n",
       "  'Quantity': 300}}"
      ]
     },
     "execution_count": 7,
     "metadata": {},
     "output_type": "execute_result"
    }
   ],
   "source": [
    "record"
   ]
  },
  {
   "cell_type": "markdown",
   "metadata": {},
   "source": [
    "# ***************Welcome to the Inventory Management System******************"
   ]
  },
  {
   "cell_type": "markdown",
   "metadata": {},
   "source": [
    "## Choose 1 to Display the Record\n",
    "## Choose 2 for Adding an item to the Record\n",
    "## Choose 3 for Purchasing an item \n",
    "## Choose 4 for Updating the Record\n",
    "## Choose 5 for Sales\n",
    "## Choose 6 to End"
   ]
  },
  {
   "cell_type": "code",
   "execution_count": null,
   "metadata": {},
   "outputs": [
    {
     "name": "stdout",
     "output_type": "stream",
     "text": [
      "Enter Choice : 1\n",
      "Displaying The Record\n",
      "\n",
      "{'2000': {'Category': 'Stationary', 'Item name': 'Register', 'Price': 50, 'Quantity': 100}, '2001': {'Category': 'Stationary', 'Item name': 'Pen', 'Price': 10, 'Quantity': 500}, '2002': {'Category': 'Stationary', 'Item name': 'Pencil', 'Price': 5, 'Quantity': 500}, '2003': {'Category': 'Stationary', 'Item name': 'Eraser', 'Price': 5, 'Quantity': 200}, '2004': {'Category': 'Stationary', 'Item name': 'Marker', 'Price': 30, 'Quantity': 100}, '2005': {'Category': 'Fruits', 'Item name': 'Apple', 'Price': 30, 'Quantity': 300}, '2006': {'Category': 'Fruits', 'Item name': 'Mango', 'Price': 30, 'Quantity': 300}, '2007': {'Category': 'Fruits', 'Item name': 'Kiwi', 'Price': 30, 'Quantity': 300}, '2008': {'Category': 'Fruits', 'Item name': 'Guava', 'Price': 30, 'Quantity': 300}, '2009': {'Category': 'Fruits', 'Item name': 'Strawberry', 'Price': 30, 'Quantity': 300}, '2010': {'Category': 'Vegetables', 'Item name': 'Potato', 'Price': 40, 'Quantity': 400}, '2011': {'Category': 'Vegetables', 'Item name': 'Tomato', 'Price': 40, 'Quantity': 380}, '2012': {'Category': 'Vegetables', 'Item name': 'Onion', 'Price': 40, 'Quantity': 400}, '2013': {'Category': 'Vegetables', 'Item name': 'Garlic', 'Price': 40, 'Quantity': 400}, '2014': {'Category': 'Vegetables', 'Item name': 'Bell Peppers', 'Price': 40, 'Quantity': 400}, '2015': {'Category': 'Snacks', 'Item name': 'Kurkere', 'Price': 20, 'Quantity': 500}, '2016': {'Category': 'Snacks', 'Item name': 'Uncle Chips', 'Price': 20, 'Quantity': 500}, '2017': {'Category': 'Snacks', 'Item name': 'Doritos', 'Price': 20, 'Quantity': 500}, '2018': {'Category': 'Snacks', 'Item name': 'Lays', 'Price': 20, 'Quantity': 500}, '2019': {'Category': 'Snacks', 'Item name': 'Snac Lite', 'Price': 20, 'Quantity': 500}, '2020': {'Category': 'Chocolates', 'Item name': 'KitKat', 'Price': 20, 'Quantity': 200}, '2021': {'Category': 'Chocolates', 'Item name': 'Dairy Milk', 'Price': 20, 'Quantity': 200}, '2022': {'Category': 'Chocolates', 'Item name': '5 Star', 'Price': 20, 'Quantity': 200}, '2023': {'Category': 'Chocolates', 'Item name': 'Munch', 'Price': 10, 'Quantity': 200}, '2024': {'Category': 'Chocolates', 'Item name': 'Perk', 'Price': 10, 'Quantity': 200}, '2025': {'Category': 'Biscuits', 'Item name': 'Hide n Seek', 'Price': 50, 'Quantity': 300}, '2026': {'Category': 'Biscuits', 'Item name': 'Bourbon', 'Price': 50, 'Quantity': 300}, '2027': {'Category': 'Biscuits', 'Item name': 'Good Day', 'Price': 50, 'Quantity': 300}, '2028': {'Category': 'Biscuits', 'Item name': 'Oreo', 'Price': 50, 'Quantity': 300}, '2029': {'Category': 'Biscuits', 'Item name': 'Parle G', 'Price': 50, 'Quantity': 300}, '2030': {'Category': 'Biscuits', 'Name': 'MariGold', 'Price': 40, 'Quantity': 50}}\n"
     ]
    }
   ],
   "source": [
    "ch = int(input(\"Enter Choice : \"))\n",
    "c=0\n",
    "sales={}\n",
    "while(ch!=6):\n",
    "    if(ch==1):\n",
    "        print(\"Displaying The Record\\n\")\n",
    "        import json\n",
    "        fd = open(\"record.json\",'r')\n",
    "        txt = fd.read()\n",
    "        fd.close()\n",
    "        record = json.loads(txt)\n",
    "        print(record)\n",
    "    elif(ch==2):\n",
    "        print(\"Adding The Item\\n\")\n",
    "        p_id = str(input(\"Enter Product ID: \"))\n",
    "        cat = str(input(\"Enter Category: \"))\n",
    "        name= str(input(\"Enter Product Name: \"))\n",
    "        price = int(input(\"Enter Price: \"))\n",
    "        quan = int(input(\"Enter Quantity: \"))\n",
    "        record[p_id] = {\"Category\" : cat , \"Name\" : name , \"Price\":price , \"Quantity\": quan}\n",
    "        js = json.dumps(record)\n",
    "        fd = open(\"record.json\",'w')\n",
    "        fd.write(js)\n",
    "        fd.close()\n",
    "        print(record)\n",
    "    elif(ch==3):\n",
    "        print(\"Purchasing The Item\\n\")\n",
    "        import json\n",
    "        fd = open(\"record.json\",'r')\n",
    "        txt = fd.read()\n",
    "        fd.close()\n",
    "        record = json.loads(txt)\n",
    "        prod_id = str(input(\"Enter the product ID of purchased item: \"))\n",
    "        prod_qn = int(input(\"Enter the quantity of purchased item: \"))\n",
    "        print(\"Category: \" , record[prod_id]['Category'])\n",
    "        print(\"Product Name: \" , record[prod_id]['Item name'])\n",
    "        print(\"Price: \" , record[prod_id]['Price'])\n",
    "        print(\"Billing Amount: \" , record[prod_id]['Price'] * prod_qn)\n",
    "        record[prod_id]['Quantity'] = record[prod_id]['Quantity'] - prod_qn\n",
    "        sales[c] = {\"Product_id\" : prod_id , \"Quantity\": prod_qn , \"Amount\" : record[prod_id]['Price']*prod_qn}\n",
    "        c=c+1;      \n",
    "    elif(ch==4):\n",
    "        print(\"Record Updated!\\n\")\n",
    "        js = json.dumps(record)\n",
    "        fd = open(\"record.json\",'w')\n",
    "        fd.write(js)\n",
    "        fd.close()\n",
    "    elif(ch==5):\n",
    "        print(\"Sales:\\n\")\n",
    "        sale = json.dumps(sales)\n",
    "        print(sales)      \n",
    "    ch = int(input(\"Enter Choice : \"))\n",
    "print(\"\\n ***Have a Good Day!***\")  "
   ]
  },
  {
   "cell_type": "code",
   "execution_count": null,
   "metadata": {},
   "outputs": [],
   "source": []
  }
 ],
 "metadata": {
  "kernelspec": {
   "display_name": "Python 3",
   "language": "python",
   "name": "python3"
  },
  "language_info": {
   "codemirror_mode": {
    "name": "ipython",
    "version": 3
   },
   "file_extension": ".py",
   "mimetype": "text/x-python",
   "name": "python",
   "nbconvert_exporter": "python",
   "pygments_lexer": "ipython3",
   "version": "3.8.5"
  }
 },
 "nbformat": 4,
 "nbformat_minor": 4
}
